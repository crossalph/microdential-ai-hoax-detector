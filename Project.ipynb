{
 "cells": [
  {
   "cell_type": "code",
   "execution_count": 1,
   "id": "c0692cae",
   "metadata": {},
   "outputs": [],
   "source": [
    "import re\n",
    "import string\n",
    "import dill as pickle\n",
    "\n",
    "from sklearn.model_selection import train_test_split\n",
    "from sklearn.metrics import accuracy_score\n",
    "from sklearn.metrics import classification_report\n",
    "\n",
    "#fungsi format teks\n",
    "def wordopt(text):\n",
    "    text = text.lower()\n",
    "    text = re.sub('\\[.*?\\]', '', text)\n",
    "    text = re.sub(\"\\\\W\",\" \",text) \n",
    "    text = re.sub('https?://\\S+|www\\.\\S+', '', text)\n",
    "    text = re.sub('<.*?>+', '', text)\n",
    "    text = re.sub('[%s]' % re.escape(string.punctuation), '', text)\n",
    "    text = re.sub('\\n', '', text)\n",
    "    text = re.sub('\\w*\\d\\w*', '', text)    \n",
    "    return text"
   ]
  },
  {
   "cell_type": "code",
   "execution_count": 2,
   "id": "be1ccbd1",
   "metadata": {},
   "outputs": [],
   "source": [
    "#load dataset\n",
    "import pandas as pd\n",
    "data = pd.read_csv('Data_test.csv')"
   ]
  },
  {
   "cell_type": "code",
   "execution_count": 3,
   "id": "62670a86",
   "metadata": {},
   "outputs": [
    {
     "data": {
      "text/html": [
       "<div>\n",
       "<style scoped>\n",
       "    .dataframe tbody tr th:only-of-type {\n",
       "        vertical-align: middle;\n",
       "    }\n",
       "\n",
       "    .dataframe tbody tr th {\n",
       "        vertical-align: top;\n",
       "    }\n",
       "\n",
       "    .dataframe thead th {\n",
       "        text-align: right;\n",
       "    }\n",
       "</style>\n",
       "<table border=\"1\" class=\"dataframe\">\n",
       "  <thead>\n",
       "    <tr style=\"text-align: right;\">\n",
       "      <th></th>\n",
       "      <th>text</th>\n",
       "      <th>Nilai kebenaran</th>\n",
       "    </tr>\n",
       "  </thead>\n",
       "  <tbody>\n",
       "    <tr>\n",
       "      <th>0</th>\n",
       "      <td>every record has been destroyed or falsified ...</td>\n",
       "      <td>0</td>\n",
       "    </tr>\n",
       "    <tr>\n",
       "      <th>1</th>\n",
       "      <td>john mccain really doesn t care what topic rep...</td>\n",
       "      <td>0</td>\n",
       "    </tr>\n",
       "    <tr>\n",
       "      <th>2</th>\n",
       "      <td>cairo  reuters    supporters of islamic state ...</td>\n",
       "      <td>1</td>\n",
       "    </tr>\n",
       "    <tr>\n",
       "      <th>3</th>\n",
       "      <td>alexander mccoy  a veteran of the u s  marines...</td>\n",
       "      <td>0</td>\n",
       "    </tr>\n",
       "    <tr>\n",
       "      <th>4</th>\n",
       "      <td>freelancers love entitled people  really we do...</td>\n",
       "      <td>0</td>\n",
       "    </tr>\n",
       "    <tr>\n",
       "      <th>...</th>\n",
       "      <td>...</td>\n",
       "      <td>...</td>\n",
       "    </tr>\n",
       "    <tr>\n",
       "      <th>45453</th>\n",
       "      <td>who could forget mitt romney s second and thir...</td>\n",
       "      <td>0</td>\n",
       "    </tr>\n",
       "    <tr>\n",
       "      <th>45454</th>\n",
       "      <td>reuters    senior fbi officials who helped pr...</td>\n",
       "      <td>1</td>\n",
       "    </tr>\n",
       "    <tr>\n",
       "      <th>45455</th>\n",
       "      <td>washington  reuters    two senior republican h...</td>\n",
       "      <td>1</td>\n",
       "    </tr>\n",
       "    <tr>\n",
       "      <th>45456</th>\n",
       "      <td>part of the appeal of donald trump  at least f...</td>\n",
       "      <td>0</td>\n",
       "    </tr>\n",
       "    <tr>\n",
       "      <th>45457</th>\n",
       "      <td>sydney    reuters    thousands of people ralli...</td>\n",
       "      <td>1</td>\n",
       "    </tr>\n",
       "  </tbody>\n",
       "</table>\n",
       "<p>45458 rows × 2 columns</p>\n",
       "</div>"
      ],
      "text/plain": [
       "                                                    text  Nilai kebenaran\n",
       "0       every record has been destroyed or falsified ...                0\n",
       "1      john mccain really doesn t care what topic rep...                0\n",
       "2      cairo  reuters    supporters of islamic state ...                1\n",
       "3      alexander mccoy  a veteran of the u s  marines...                0\n",
       "4      freelancers love entitled people  really we do...                0\n",
       "...                                                  ...              ...\n",
       "45453  who could forget mitt romney s second and thir...                0\n",
       "45454   reuters    senior fbi officials who helped pr...                1\n",
       "45455  washington  reuters    two senior republican h...                1\n",
       "45456  part of the appeal of donald trump  at least f...                0\n",
       "45457  sydney    reuters    thousands of people ralli...                1\n",
       "\n",
       "[45458 rows x 2 columns]"
      ]
     },
     "execution_count": 3,
     "metadata": {},
     "output_type": "execute_result"
    }
   ],
   "source": [
    "#show data\n",
    "data.drop(data.columns[0], axis = 1, inplace = True)\n",
    "data"
   ]
  },
  {
   "cell_type": "code",
   "execution_count": 4,
   "id": "2361467e",
   "metadata": {},
   "outputs": [
    {
     "data": {
      "text/plain": [
       "((45458,), (45458,))"
      ]
     },
     "execution_count": 4,
     "metadata": {},
     "output_type": "execute_result"
    }
   ],
   "source": [
    "X = data['text'].values\n",
    "y = data['Nilai kebenaran'].values\n",
    "X.shape, y.shape"
   ]
  },
  {
   "cell_type": "code",
   "execution_count": 5,
   "id": "9bc08548",
   "metadata": {},
   "outputs": [],
   "source": [
    "X_train, X_test, y_train, y_test = train_test_split(X, y, test_size = 0.3, random_state = 1)"
   ]
  },
  {
   "cell_type": "code",
   "execution_count": 6,
   "id": "fb05fbd5",
   "metadata": {},
   "outputs": [],
   "source": [
    "from sklearn.feature_extraction.text import TfidfVectorizer\n",
    "\n",
    "vektor = TfidfVectorizer()\n",
    "xv_train = vektor.fit_transform(X_train)\n",
    "xv_test = vektor.transform(X_test)"
   ]
  },
  {
   "cell_type": "code",
   "execution_count": 7,
   "id": "551a78de",
   "metadata": {},
   "outputs": [],
   "source": [
    "from sklearn.tree import DecisionTreeClassifier\n",
    "decision_tree = DecisionTreeClassifier(random_state = 1)\n",
    "decision_tree.fit(xv_train,y_train)\n",
    "prediksi_DT = decision_tree.predict(xv_test)\n",
    "score = decision_tree.score(xv_test, y_test)"
   ]
  },
  {
   "cell_type": "code",
   "execution_count": 8,
   "id": "7750cbdc",
   "metadata": {},
   "outputs": [
    {
     "name": "stdout",
     "output_type": "stream",
     "text": [
      "0.9914210294764628\n"
     ]
    }
   ],
   "source": [
    "print(score)"
   ]
  },
  {
   "cell_type": "code",
   "execution_count": 9,
   "id": "9c25c5c7",
   "metadata": {},
   "outputs": [
    {
     "data": {
      "text/html": [
       "<div>\n",
       "<style scoped>\n",
       "    .dataframe tbody tr th:only-of-type {\n",
       "        vertical-align: middle;\n",
       "    }\n",
       "\n",
       "    .dataframe tbody tr th {\n",
       "        vertical-align: top;\n",
       "    }\n",
       "\n",
       "    .dataframe thead th {\n",
       "        text-align: right;\n",
       "    }\n",
       "</style>\n",
       "<table border=\"1\" class=\"dataframe\">\n",
       "  <thead>\n",
       "    <tr style=\"text-align: right;\">\n",
       "      <th></th>\n",
       "      <th>0</th>\n",
       "      <th>1</th>\n",
       "      <th>accuracy</th>\n",
       "      <th>macro avg</th>\n",
       "      <th>weighted avg</th>\n",
       "    </tr>\n",
       "  </thead>\n",
       "  <tbody>\n",
       "    <tr>\n",
       "      <th>precision</th>\n",
       "      <td>0.991955</td>\n",
       "      <td>0.990844</td>\n",
       "      <td>0.991421</td>\n",
       "      <td>0.991399</td>\n",
       "      <td>0.991421</td>\n",
       "    </tr>\n",
       "    <tr>\n",
       "      <th>recall</th>\n",
       "      <td>0.991535</td>\n",
       "      <td>0.991298</td>\n",
       "      <td>0.991421</td>\n",
       "      <td>0.991416</td>\n",
       "      <td>0.991421</td>\n",
       "    </tr>\n",
       "    <tr>\n",
       "      <th>f1-score</th>\n",
       "      <td>0.991745</td>\n",
       "      <td>0.991071</td>\n",
       "      <td>0.991421</td>\n",
       "      <td>0.991408</td>\n",
       "      <td>0.991421</td>\n",
       "    </tr>\n",
       "    <tr>\n",
       "      <th>support</th>\n",
       "      <td>7088.000000</td>\n",
       "      <td>6550.000000</td>\n",
       "      <td>0.991421</td>\n",
       "      <td>13638.000000</td>\n",
       "      <td>13638.000000</td>\n",
       "    </tr>\n",
       "  </tbody>\n",
       "</table>\n",
       "</div>"
      ],
      "text/plain": [
       "                     0            1  accuracy     macro avg  weighted avg\n",
       "precision     0.991955     0.990844  0.991421      0.991399      0.991421\n",
       "recall        0.991535     0.991298  0.991421      0.991416      0.991421\n",
       "f1-score      0.991745     0.991071  0.991421      0.991408      0.991421\n",
       "support    7088.000000  6550.000000  0.991421  13638.000000  13638.000000"
      ]
     },
     "execution_count": 9,
     "metadata": {},
     "output_type": "execute_result"
    }
   ],
   "source": [
    "hasildata_DT = classification_report(y_test, prediksi_DT, output_dict=True)\n",
    "pd.DataFrame(hasildata_DT)"
   ]
  },
  {
   "cell_type": "code",
   "execution_count": 10,
   "id": "8743d72a",
   "metadata": {},
   "outputs": [],
   "source": [
    "def output_lable(n):\n",
    "    if n == 0:\n",
    "        return \"Berita Palsu\"\n",
    "    elif n == 1:\n",
    "        return \"Berita Asli\"\n",
    "    \n",
    "def manual_testing(news):\n",
    "    testing_news = {\"text\":[news]}\n",
    "    new_def_test = pd.DataFrame(testing_news)\n",
    "    new_def_test[\"text\"] = new_def_test[\"text\"].apply(wordopt) \n",
    "    new_x_test = new_def_test[\"text\"]\n",
    "    new_xv_test = vektor.transform(new_x_test)\n",
    "    prediksi_DT = decision_tree.predict(new_xv_test)\n",
    "    \n",
    "    return print(\"\\n\\nDT Prediction: {}\".format(output_lable(prediksi_DT[0])))"
   ]
  },
  {
   "cell_type": "code",
   "execution_count": 22,
   "id": "88ba1663",
   "metadata": {},
   "outputs": [
    {
     "name": "stdout",
     "output_type": "stream",
     "text": [
      "ADA beberapa mitos mengenai pencegahan penyakit stroke. Salah satunya adalah menusukkan jarum. dr Frandy Susatia SpS mengatakan bahwa mitos tersebut merupakan hal yang justru bisa membahayakan diri sendiri. Apalagi, jika yang melakukannya juga menderita diabetes. Tidak benar kalau untuk mencegah stroke dengan menusukkan jarum. Itu cuma mitos, katanya di Jakarta, baru-baru ini. Selain menusukkan jarum, mitos lainnya adalah mengguyur kulit saat kepanasan. Namun lagi-lagi, dokter yang praktek di RS Siloam Kebon Jeruk itu menyangkalnya. Tidak benar. Kalau kepanasan, pembuluh darahnya akan menyebar, tapi akan normal lagi ketika panas itu berkurang. Hanya pingsan, tapi tidak stroke, karena pembuluh darahnya sedang uploading, tutupnya.\n",
      "\n",
      "\n",
      "DT Prediction: Berita Asli\n"
     ]
    }
   ],
   "source": [
    "news = str(input())\n",
    "manual_testing(news)"
   ]
  },
  {
   "cell_type": "code",
   "execution_count": 12,
   "id": "3ace4082",
   "metadata": {},
   "outputs": [],
   "source": [
    "import pickle"
   ]
  },
  {
   "cell_type": "code",
   "execution_count": 13,
   "id": "c55e353d",
   "metadata": {},
   "outputs": [],
   "source": [
    "pickle.dump(decision_tree, open('model_decision_tree.pkl','wb'))"
   ]
  },
  {
   "cell_type": "code",
   "execution_count": 14,
   "id": "3375a8dd",
   "metadata": {},
   "outputs": [],
   "source": [
    "pickle.dump(wordopt, open('wordopt.pkl','wb'))"
   ]
  },
  {
   "cell_type": "code",
   "execution_count": 15,
   "id": "56e25e6c",
   "metadata": {},
   "outputs": [],
   "source": [
    "pickle.dump(vektor, open('vektor.pkl','wb'))"
   ]
  },
  {
   "cell_type": "code",
   "execution_count": 16,
   "id": "3f3c3998",
   "metadata": {},
   "outputs": [],
   "source": [
    "import joblib"
   ]
  },
  {
   "cell_type": "code",
   "execution_count": 17,
   "id": "dbc67fa7",
   "metadata": {},
   "outputs": [
    {
     "data": {
      "text/plain": [
       "['model_dt.pkl']"
      ]
     },
     "execution_count": 17,
     "metadata": {},
     "output_type": "execute_result"
    }
   ],
   "source": [
    "joblib.dump(decision_tree, 'model_dt.pkl')"
   ]
  },
  {
   "cell_type": "code",
   "execution_count": 21,
   "id": "e2edf7b1",
   "metadata": {},
   "outputs": [
    {
     "data": {
      "text/plain": [
       "['wordOpt2.pkl']"
      ]
     },
     "execution_count": 21,
     "metadata": {},
     "output_type": "execute_result"
    }
   ],
   "source": [
    "joblib.dump(wordopt, 'wordOpt2.pkl')"
   ]
  },
  {
   "cell_type": "code",
   "execution_count": 19,
   "id": "3f7fc383",
   "metadata": {},
   "outputs": [
    {
     "data": {
      "text/plain": [
       "['vector.pkl']"
      ]
     },
     "execution_count": 19,
     "metadata": {},
     "output_type": "execute_result"
    }
   ],
   "source": [
    "joblib.dump(vektor, 'vector.pkl')"
   ]
  },
  {
   "cell_type": "code",
   "execution_count": null,
   "id": "4cc27c99",
   "metadata": {},
   "outputs": [],
   "source": []
  }
 ],
 "metadata": {
  "kernelspec": {
   "display_name": "Python 3",
   "language": "python",
   "name": "python3"
  },
  "language_info": {
   "codemirror_mode": {
    "name": "ipython",
    "version": 3
   },
   "file_extension": ".py",
   "mimetype": "text/x-python",
   "name": "python",
   "nbconvert_exporter": "python",
   "pygments_lexer": "ipython3",
   "version": "3.8.8"
  }
 },
 "nbformat": 4,
 "nbformat_minor": 5
}
